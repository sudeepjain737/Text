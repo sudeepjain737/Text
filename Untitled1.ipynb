{
 "cells": [
  {
   "cell_type": "code",
   "execution_count": 1,
   "id": "eb236dd9",
   "metadata": {},
   "outputs": [],
   "source": [
    "import pandas as pd\n",
    "import string\n",
    "from nltk.corpus import stopwords\n",
    "from nltk.tokenize import word_tokenize\n",
    "from sklearn.model_selection import train_test_split"
   ]
  },
  {
   "cell_type": "code",
   "execution_count": 2,
   "id": "243346e5",
   "metadata": {},
   "outputs": [],
   "source": [
    "data = pd.read_csv('train_data.csv')"
   ]
  },
  {
   "cell_type": "code",
   "execution_count": 3,
   "id": "be98e573",
   "metadata": {},
   "outputs": [
    {
     "data": {
      "text/html": [
       "<div>\n",
       "<style scoped>\n",
       "    .dataframe tbody tr th:only-of-type {\n",
       "        vertical-align: middle;\n",
       "    }\n",
       "\n",
       "    .dataframe tbody tr th {\n",
       "        vertical-align: top;\n",
       "    }\n",
       "\n",
       "    .dataframe thead th {\n",
       "        text-align: right;\n",
       "    }\n",
       "</style>\n",
       "<table border=\"1\" class=\"dataframe\">\n",
       "  <thead>\n",
       "    <tr style=\"text-align: right;\">\n",
       "      <th></th>\n",
       "      <th>path</th>\n",
       "      <th>transcription</th>\n",
       "      <th>action</th>\n",
       "      <th>object</th>\n",
       "      <th>location</th>\n",
       "    </tr>\n",
       "  </thead>\n",
       "  <tbody>\n",
       "    <tr>\n",
       "      <th>0</th>\n",
       "      <td>wavs/speakers/xRQE5VD7rRHVdyvM/7372ca00-45c4-1...</td>\n",
       "      <td>Turn on the kitchen lights</td>\n",
       "      <td>activate</td>\n",
       "      <td>lights</td>\n",
       "      <td>kitchen</td>\n",
       "    </tr>\n",
       "    <tr>\n",
       "      <th>1</th>\n",
       "      <td>wavs/speakers/R3mexpM2YAtdPbL7/dae28110-44fe-1...</td>\n",
       "      <td>Turn up the temperature</td>\n",
       "      <td>increase</td>\n",
       "      <td>heat</td>\n",
       "      <td>none</td>\n",
       "    </tr>\n",
       "    <tr>\n",
       "      <th>2</th>\n",
       "      <td>wavs/speakers/ZebMRl5Z7dhrPKRD/b55dcfd0-455d-1...</td>\n",
       "      <td>OK now switch the main language to Chinese</td>\n",
       "      <td>change language</td>\n",
       "      <td>Chinese</td>\n",
       "      <td>none</td>\n",
       "    </tr>\n",
       "    <tr>\n",
       "      <th>3</th>\n",
       "      <td>wavs/speakers/ppzZqYxGkESMdA5Az/61c54a20-4476-...</td>\n",
       "      <td>Turn down the bathroom temperature</td>\n",
       "      <td>decrease</td>\n",
       "      <td>heat</td>\n",
       "      <td>washroom</td>\n",
       "    </tr>\n",
       "    <tr>\n",
       "      <th>4</th>\n",
       "      <td>wavs/speakers/zaEBPeMY4NUbDnZy/8ef57ec0-44df-1...</td>\n",
       "      <td>Change the language</td>\n",
       "      <td>change language</td>\n",
       "      <td>none</td>\n",
       "      <td>none</td>\n",
       "    </tr>\n",
       "  </tbody>\n",
       "</table>\n",
       "</div>"
      ],
      "text/plain": [
       "                                                path  \\\n",
       "0  wavs/speakers/xRQE5VD7rRHVdyvM/7372ca00-45c4-1...   \n",
       "1  wavs/speakers/R3mexpM2YAtdPbL7/dae28110-44fe-1...   \n",
       "2  wavs/speakers/ZebMRl5Z7dhrPKRD/b55dcfd0-455d-1...   \n",
       "3  wavs/speakers/ppzZqYxGkESMdA5Az/61c54a20-4476-...   \n",
       "4  wavs/speakers/zaEBPeMY4NUbDnZy/8ef57ec0-44df-1...   \n",
       "\n",
       "                                transcription           action   object  \\\n",
       "0                  Turn on the kitchen lights         activate   lights   \n",
       "1                     Turn up the temperature         increase     heat   \n",
       "2  OK now switch the main language to Chinese  change language  Chinese   \n",
       "3          Turn down the bathroom temperature         decrease     heat   \n",
       "4                         Change the language  change language     none   \n",
       "\n",
       "   location  \n",
       "0   kitchen  \n",
       "1      none  \n",
       "2      none  \n",
       "3  washroom  \n",
       "4      none  "
      ]
     },
     "execution_count": 3,
     "metadata": {},
     "output_type": "execute_result"
    }
   ],
   "source": [
    "data.head()"
   ]
  },
  {
   "cell_type": "code",
   "execution_count": 4,
   "id": "61be2ae4",
   "metadata": {},
   "outputs": [
    {
     "name": "stdout",
     "output_type": "stream",
     "text": [
      "<class 'pandas.core.frame.DataFrame'>\n",
      "RangeIndex: 11566 entries, 0 to 11565\n",
      "Data columns (total 5 columns):\n",
      " #   Column         Non-Null Count  Dtype \n",
      "---  ------         --------------  ----- \n",
      " 0   path           11566 non-null  object\n",
      " 1   transcription  11566 non-null  object\n",
      " 2   action         11566 non-null  object\n",
      " 3   object         11566 non-null  object\n",
      " 4   location       11566 non-null  object\n",
      "dtypes: object(5)\n",
      "memory usage: 451.9+ KB\n"
     ]
    }
   ],
   "source": [
    "data.info()"
   ]
  },
  {
   "cell_type": "code",
   "execution_count": 5,
   "id": "ebd6940f",
   "metadata": {},
   "outputs": [
    {
     "data": {
      "text/plain": [
       "path             0\n",
       "transcription    0\n",
       "action           0\n",
       "object           0\n",
       "location         0\n",
       "dtype: int64"
      ]
     },
     "execution_count": 5,
     "metadata": {},
     "output_type": "execute_result"
    }
   ],
   "source": [
    "data.isna().sum()"
   ]
  },
  {
   "cell_type": "code",
   "execution_count": 6,
   "id": "d9109b33",
   "metadata": {},
   "outputs": [],
   "source": [
    "def preprocess_text(text):\n",
    "    text = text.lower()\n",
    "    text = text.translate(str.maketrans('', '', string.punctuation))\n",
    "    words = word_tokenize(text)\n",
    "    return ' '.join(words)"
   ]
  },
  {
   "cell_type": "code",
   "execution_count": 7,
   "id": "208181d4",
   "metadata": {},
   "outputs": [],
   "source": [
    "data['transcription'] = data['transcription'].apply(preprocess_text)\n",
    "data['label'] = data['action'] + '_' + data['object'] + '_' + data['location']"
   ]
  },
  {
   "cell_type": "code",
   "execution_count": 8,
   "id": "aaa03aec",
   "metadata": {},
   "outputs": [],
   "source": [
    "X_train, X_valid, y_train, y_valid = train_test_split(data['transcription'], data['label'], random_state=42)"
   ]
  },
  {
   "cell_type": "code",
   "execution_count": 9,
   "id": "493e8fb8",
   "metadata": {},
   "outputs": [],
   "source": [
    "from sklearn.feature_extraction.text import TfidfVectorizer\n",
    "from sklearn.preprocessing import LabelEncoder\n",
    "\n",
    "vectorizer = TfidfVectorizer()\n",
    "X_train = vectorizer.fit_transform(X_train)\n",
    "X_valid = vectorizer.transform(X_valid)\n",
    "\n",
    "encoder = LabelEncoder()\n",
    "y_train = encoder.fit_transform(y_train)\n",
    "y_valid = encoder.transform(y_valid)"
   ]
  },
  {
   "cell_type": "code",
   "execution_count": 10,
   "id": "236142e7",
   "metadata": {},
   "outputs": [
    {
     "name": "stdout",
     "output_type": "stream",
     "text": [
      "Accuracy: 1.00, Precision: 1.00, Recall: 1.00, F1-score: 1.00\n"
     ]
    }
   ],
   "source": [
    "from sklearn.svm import SVC\n",
    "from sklearn.metrics import accuracy_score, precision_score, recall_score, f1_score\n",
    "\n",
    "clf = SVC(kernel='linear')\n",
    "clf.fit(X_train, y_train)\n",
    "\n",
    "y_pred = clf.predict(X_valid)\n",
    "\n",
    "acc = accuracy_score(y_valid, y_pred)\n",
    "precision = precision_score(y_valid, y_pred, average='macro')\n",
    "recall = recall_score(y_valid, y_pred, average='macro')\n",
    "f1 = f1_score(y_valid, y_pred, average='macro')\n",
    "print('Accuracy: {:.2f}, Precision: {:.2f}, Recall: {:.2f}, F1-score: {:.2f}'.format(acc, precision, recall, f1))\n"
   ]
  },
  {
   "cell_type": "code",
   "execution_count": 11,
   "id": "43b8fc1f",
   "metadata": {},
   "outputs": [
    {
     "name": "stdout",
     "output_type": "stream",
     "text": [
      "activate_lights_none\n"
     ]
    }
   ],
   "source": [
    "new_text = 'turn on the lights'\n",
    "new_text = preprocess_text(new_text)\n",
    "new_text_vec = vectorizer.transform([new_text])\n",
    "predicted_label = encoder.inverse_transform(clf.predict(new_text_vec))\n",
    "print(predicted_label[0])\n"
   ]
  },
  {
   "cell_type": "code",
   "execution_count": 12,
   "id": "c4f3b5ff",
   "metadata": {},
   "outputs": [],
   "source": [
    "def Predicted_Result(new_text):\n",
    "    string = preprocess_text(new_text)\n",
    "    new_text_vec = vectorizer.transform([new_text])\n",
    "    predicted_label = encoder.inverse_transform(clf.predict(new_text_vec))\n",
    "    lst = predicted_label[0].split(\"_\")\n",
    "    print(\"Action: \",lst[0])\n",
    "    print(\"Object: \",lst[1])\n",
    "    print(\"Location: \",lst[2])"
   ]
  },
  {
   "cell_type": "code",
   "execution_count": 13,
   "id": "0c1d97d4",
   "metadata": {},
   "outputs": [
    {
     "name": "stdout",
     "output_type": "stream",
     "text": [
      "Action:  activate\n",
      "Object:  lights\n",
      "Location:  none\n"
     ]
    }
   ],
   "source": [
    "Predicted_Result(\"turn on the lights\")"
   ]
  },
  {
   "cell_type": "code",
   "execution_count": 14,
   "id": "c639fb13",
   "metadata": {},
   "outputs": [
    {
     "data": {
      "text/plain": [
       "<function joblib.numpy_pickle.dump(value, filename, compress=0, protocol=None, cache_size=None)>"
      ]
     },
     "execution_count": 14,
     "metadata": {},
     "output_type": "execute_result"
    }
   ],
   "source": [
    "import joblib\n",
    "\n",
    "\n",
    "joblib.dump"
   ]
  }
 ],
 "metadata": {
  "kernelspec": {
   "display_name": "Python 3",
   "language": "python",
   "name": "python3"
  },
  "language_info": {
   "codemirror_mode": {
    "name": "ipython",
    "version": 3
   },
   "file_extension": ".py",
   "mimetype": "text/x-python",
   "name": "python",
   "nbconvert_exporter": "python",
   "pygments_lexer": "ipython3",
   "version": "3.8.8"
  }
 },
 "nbformat": 4,
 "nbformat_minor": 5
}
